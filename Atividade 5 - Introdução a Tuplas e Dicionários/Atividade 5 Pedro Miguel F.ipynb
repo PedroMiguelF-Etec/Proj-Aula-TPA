{
 "cells": [
  {
   "cell_type": "markdown",
   "metadata": {},
   "source": [
    "> 1ºDS Pedro Miguel Fernandes"
   ]
  },
  {
   "cell_type": "markdown",
   "metadata": {},
   "source": [
    "## Exercicio 1"
   ]
  },
  {
   "cell_type": "code",
   "execution_count": 2,
   "metadata": {},
   "outputs": [
    {
     "name": "stdout",
     "output_type": "stream",
     "text": [
      "Matricula:\n",
      "codígo: 240226\n",
      "data: 24/09/2024\n",
      "curso: DS\n",
      "\n",
      "Aluno:\n",
      "registro: Etec\n",
      "Nome: Pedro MiguelF\n",
      "\n",
      "Diciplina:\n",
      "registro: professor de python\n",
      "professor: Gustavo\n",
      "\n",
      "Escola:\n",
      "dict_values(['240226', '24/09/2024', 'DS'])\n",
      "dict_values(['Etec', 'Pedro MiguelF'])\n",
      "dict_values(['professor de python', 'Gustavo'])\n"
     ]
    }
   ],
   "source": [
    "Matricula = {\n",
    "    'codígo': '240226', \n",
    "    'data': \"24/09/2024\", \n",
    "    'curso': \"DS\"\n",
    "    }\n",
    "\n",
    "Aluno = {\n",
    "    'registro': \"Etec\", \n",
    "    'Nome': \"Pedro MiguelF\"\n",
    "    }\n",
    "\n",
    "Diciplina = {\n",
    "    'registro': \"professor de python\",\n",
    "    'professor': \"Gustavo\"\n",
    "    }\n",
    "\n",
    "Escola = (Matricula, Aluno, Diciplina)\n",
    "\n",
    "print(\"Matricula:\")\n",
    "\n",
    "for x in Matricula:\n",
    "    print(x + \":\", Matricula[x])\n",
    "\n",
    "print(\"\\nAluno:\")\n",
    "\n",
    "for x in Aluno:\n",
    "    print(x + \":\", Aluno[x])\n",
    "\n",
    "print(\"\\nDiciplina:\")\n",
    "\n",
    "for x in Diciplina:\n",
    "    print(x + \":\", Diciplina[x])\n",
    "\n",
    "print(\"\\nEscola:\")\n",
    "for x in Escola:\n",
    "    print(x.values())"
   ]
  },
  {
   "cell_type": "markdown",
   "metadata": {},
   "source": [
    "## Exercicio 2"
   ]
  },
  {
   "cell_type": "code",
   "execution_count": 3,
   "metadata": {},
   "outputs": [
    {
     "name": "stdout",
     "output_type": "stream",
     "text": [
      "({'registro': 'cidadão', 'nome': 'ronaldo', 'adimissão': '20/03'}, {'ID': '203.024.981', 'nome': 'Batata :)', 'fabricante': 'Fazendeiro'}, {'reg_vendedor': 'cidadão', 'id_produto': '203.024.981', 'Valor': 'R$2,00'})\n"
     ]
    }
   ],
   "source": [
    "Vendedor = {'registro': \"cidadão\", 'nome': \"ronaldo\", 'adimissão': \"20/03\"}\n",
    "produto = {'ID': \"203.024.981\", 'nome': \"Batata :)\", 'fabricante': \"Fazendeiro\"}\n",
    "venda = {'reg_vendedor': Vendedor['registro'], 'id_produto': produto['ID'], 'Valor': \"R$2,00\"}\n",
    "casas_baiano = (Vendedor, produto, venda)\n",
    "\n",
    "print(casas_baiano)"
   ]
  }
 ],
 "metadata": {
  "kernelspec": {
   "display_name": "Python 3",
   "language": "python",
   "name": "python3"
  },
  "language_info": {
   "codemirror_mode": {
    "name": "ipython",
    "version": 3
   },
   "file_extension": ".py",
   "mimetype": "text/x-python",
   "name": "python",
   "nbconvert_exporter": "python",
   "pygments_lexer": "ipython3",
   "version": "3.11.9"
  }
 },
 "nbformat": 4,
 "nbformat_minor": 2
}
