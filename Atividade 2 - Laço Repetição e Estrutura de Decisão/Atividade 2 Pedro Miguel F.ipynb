{
 "cells": [
  {
   "cell_type": "markdown",
   "metadata": {},
   "source": [
    "> 1ºDS Pedro Miguel Fernandes"
   ]
  },
  {
   "cell_type": "markdown",
   "metadata": {},
   "source": [
    "## Exercicio 1"
   ]
  },
  {
   "cell_type": "code",
   "execution_count": null,
   "metadata": {},
   "outputs": [
    {
     "name": "stdout",
     "output_type": "stream",
     "text": [
      "798.0\n"
     ]
    }
   ],
   "source": [
    "deposito = 500\n",
    "pix = 200\n",
    "PagamentoDOC = 140\n",
    "ValorTotal = \"nulo\"\n",
    "idade = int(input(\"Incira sua idade: \"))\n",
    "\n",
    "if (idade < 60):\n",
    "    print(deposito + pix + PagamentoDOC)\n",
    "\n",
    "else:\n",
    "    ValorTotal = deposito + pix + PagamentoDOC\n",
    "    print(ValorTotal - (deposito + pix + PagamentoDOC) * 0.05)"
   ]
  },
  {
   "cell_type": "markdown",
   "metadata": {},
   "source": [
    "## Exercicio 2"
   ]
  },
  {
   "cell_type": "code",
   "execution_count": 1,
   "metadata": {},
   "outputs": [
    {
     "name": "stdout",
     "output_type": "stream",
     "text": [
      "5225.0\n"
     ]
    }
   ],
   "source": [
    "saldo = 50000\n",
    "valordocarro = 44500\n",
    "valortotal = saldo - valordocarro\n",
    "idade = int(input(\"Incira sua idade: \"))\n",
    "\n",
    "\n",
    "\n",
    "if (idade < 30):\n",
    "    print(valortotal - (saldo - valordocarro) * 0.05)\n",
    "\n",
    "elif (idade < 50):\n",
    "    print(valortotal - (saldo - valordocarro) * 0.12)\n",
    "\n",
    "else:\n",
    "    print(valortotal - (saldo - valordocarro) * 0.15)"
   ]
  }
 ],
 "metadata": {
  "kernelspec": {
   "display_name": "Python 3",
   "language": "python",
   "name": "python3"
  },
  "language_info": {
   "codemirror_mode": {
    "name": "ipython",
    "version": 3
   },
   "file_extension": ".py",
   "mimetype": "text/x-python",
   "name": "python",
   "nbconvert_exporter": "python",
   "pygments_lexer": "ipython3",
   "version": "3.11.9"
  }
 },
 "nbformat": 4,
 "nbformat_minor": 2
}
