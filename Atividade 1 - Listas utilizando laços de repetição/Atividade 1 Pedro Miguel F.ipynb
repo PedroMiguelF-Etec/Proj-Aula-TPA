{
 "cells": [
  {
   "cell_type": "markdown",
   "metadata": {},
   "source": [
    "> 1ºDS Pedro Miguel Fernandes"
   ]
  },
  {
   "cell_type": "markdown",
   "metadata": {},
   "source": [
    "## Exercicio 1"
   ]
  },
  {
   "cell_type": "code",
   "execution_count": 29,
   "metadata": {},
   "outputs": [
    {
     "name": "stdout",
     "output_type": "stream",
     "text": [
      "1  - Abacaxi\n",
      "2  - Alface\n",
      "3  - Tomate\n",
      "4  - Abobora\n",
      "5  - Cenora\n",
      "6  - Pepino\n",
      "7  - Fava\n",
      "8  - Cogumelo\n",
      "9  - Berinjela\n",
      "10 - Beterraba\n"
     ]
    }
   ],
   "source": [
    "FrutasELegumes = [\"Abacaxi\", \"Alface\", \"Tomate\", \"Abobora\", \"Cenora\", \"Pepino\", \"Fava\", \"Cogumelo\", \"Berinjela\", \"Beterraba\"]\n",
    "numero = 1\n",
    "\n",
    "for Y in FrutasELegumes:\n",
    "    \n",
    "    if numero < 10:\n",
    "        print(numero, \" -\", Y)\n",
    "\n",
    "    else:\n",
    "        print(numero, \"-\", Y)\n",
    "    numero += 1"
   ]
  }
 ],
 "metadata": {
  "kernelspec": {
   "display_name": "Python 3",
   "language": "python",
   "name": "python3"
  },
  "language_info": {
   "codemirror_mode": {
    "name": "ipython",
    "version": 3
   },
   "file_extension": ".py",
   "mimetype": "text/x-python",
   "name": "python",
   "nbconvert_exporter": "python",
   "pygments_lexer": "ipython3",
   "version": "3.11.9"
  }
 },
 "nbformat": 4,
 "nbformat_minor": 2
}
