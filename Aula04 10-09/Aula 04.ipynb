{
 "cells": [
  {
   "cell_type": "markdown",
   "metadata": {},
   "source": [
    "## Aula 04 - Introdução a Funções e Funções Lambda"
   ]
  },
  {
   "cell_type": "markdown",
   "metadata": {},
   "source": [
    "> Uma função é uma ação que realizado, através de parâmetros de entrada ou parametros vazios retornam uma rotina (código preestabelecido)"
   ]
  },
  {
   "cell_type": "markdown",
   "metadata": {},
   "source": [
    "### Funções"
   ]
  },
  {
   "cell_type": "code",
   "execution_count": 89,
   "metadata": {},
   "outputs": [],
   "source": [
    "def somar():\n",
    "    x = 2 \n",
    "    y = 2\n",
    "    res = x + y\n",
    "    print(res)\n",
    "\n"
   ]
  },
  {
   "cell_type": "code",
   "execution_count": 90,
   "metadata": {},
   "outputs": [
    {
     "name": "stdout",
     "output_type": "stream",
     "text": [
      "4\n"
     ]
    }
   ],
   "source": [
    "somar()"
   ]
  },
  {
   "cell_type": "code",
   "execution_count": 91,
   "metadata": {},
   "outputs": [],
   "source": [
    "def adicao(x, y):\n",
    "    res = x + y\n",
    "    print(res)"
   ]
  },
  {
   "cell_type": "code",
   "execution_count": 92,
   "metadata": {},
   "outputs": [],
   "source": [
    "def divicao(x, y):\n",
    "    res = x / y\n",
    "    print(res)"
   ]
  },
  {
   "cell_type": "code",
   "execution_count": 93,
   "metadata": {},
   "outputs": [],
   "source": [
    "def subtracao(x, y):\n",
    "    res = x * y\n",
    "    print(res)"
   ]
  },
  {
   "cell_type": "code",
   "execution_count": 94,
   "metadata": {},
   "outputs": [
    {
     "name": "stdout",
     "output_type": "stream",
     "text": [
      "4\n",
      "0.5\n",
      "4\n"
     ]
    }
   ],
   "source": [
    "adicao(2, 2)\n",
    "divicao(2, 4)\n",
    "subtracao(2, 2)"
   ]
  },
  {
   "cell_type": "markdown",
   "metadata": {},
   "source": [
    "### Funções Lambda"
   ]
  },
  {
   "cell_type": "markdown",
   "metadata": {},
   "source": [
    "> Uma função lambda é uma forma rápida de criar funções utilizando menos recurso e quantidade de conabdos."
   ]
  },
  {
   "cell_type": "code",
   "execution_count": 95,
   "metadata": {},
   "outputs": [],
   "source": [
    "menos = lambda x, y: x-y"
   ]
  },
  {
   "cell_type": "code",
   "execution_count": 96,
   "metadata": {},
   "outputs": [
    {
     "name": "stdout",
     "output_type": "stream",
     "text": [
      "2\n"
     ]
    }
   ],
   "source": [
    "print(menos(5, 3))"
   ]
  },
  {
   "cell_type": "code",
   "execution_count": 97,
   "metadata": {},
   "outputs": [],
   "source": [
    "delta = lambda x1, x2, x3: (x1 * x1) - 4 * x2 * x3"
   ]
  },
  {
   "cell_type": "code",
   "execution_count": 98,
   "metadata": {},
   "outputs": [
    {
     "name": "stdout",
     "output_type": "stream",
     "text": [
      "88\n"
     ]
    }
   ],
   "source": [
    "print(delta(10, 1, 3))"
   ]
  },
  {
   "cell_type": "markdown",
   "metadata": {},
   "source": [
    "## Atividade 1 Baskhara"
   ]
  },
  {
   "cell_type": "code",
   "execution_count": 86,
   "metadata": {},
   "outputs": [
    {
     "name": "stdout",
     "output_type": "stream",
     "text": [
      "delta: 88\n",
      "baskhara \n",
      "Y1: 48.69041575982343 \n",
      "Y2: 39.30958424017657\n"
     ]
    }
   ],
   "source": [
    "import math\n",
    "x4 = 0\n",
    "x1 = 0\n",
    "x2 = 0\n",
    "x3 = 0\n",
    "\n",
    "def delta (): \n",
    "    global x4\n",
    "    global x1\n",
    "    global x2\n",
    "    global x3\n",
    "\n",
    "    \n",
    "    print(\"delta:\", (x1 * x1) - 4 * x2 * x3)\n",
    "\n",
    "x1 = 10\n",
    "x2 = 1\n",
    "x3 = 3\n",
    "x4 = ((x1 * x1) - 4 * x2 * x3)\n",
    "delta()\n",
    "\n",
    "def baskhara():\n",
    "    global x4\n",
    "    global x3\n",
    "    global x2\n",
    "\n",
    "    RaizQuadrada = math.sqrt(x4)\n",
    "\n",
    "    print(\"baskhara \\nY1:\", (x4 + RaizQuadrada) / (2 * x2), \"\\nY2:\", (x4 - RaizQuadrada) / (2 * x2))\n",
    "\n",
    "baskhara()"
   ]
  },
  {
   "cell_type": "markdown",
   "metadata": {},
   "source": [
    "## Funções Map"
   ]
  },
  {
   "cell_type": "code",
   "execution_count": 104,
   "metadata": {},
   "outputs": [
    {
     "name": "stdout",
     "output_type": "stream",
     "text": [
      "[24.84, 31.06, 46.58, 62.11, 124.22]\n"
     ]
    }
   ],
   "source": [
    "kph = [40, 50, 75, 100, 200]\n",
    "mph = []\n",
    "for i in kph:\n",
    "\n",
    "    mph.append(round(i / 1.61, 2))\n",
    "\n",
    "print(mph)"
   ]
  },
  {
   "cell_type": "code",
   "execution_count": 105,
   "metadata": {},
   "outputs": [
    {
     "name": "stdout",
     "output_type": "stream",
     "text": [
      "[24.84, 31.06, 46.58, 62.11, 124.22]\n"
     ]
    }
   ],
   "source": [
    "mph2 = list(map(lambda x: round(x / 1.61, 2), kph))\n",
    "print(mph2)"
   ]
  },
  {
   "cell_type": "markdown",
   "metadata": {},
   "source": [
    "## Atividade 2"
   ]
  },
  {
   "cell_type": "markdown",
   "metadata": {},
   "source": [
    "> Crie um programa que calcule 5 valores dentrp de uma lista chamada Celsius. Crie uma lista vazia chamada Fahrenheit e armazene a conversão dos valores de celsius utilizando lambda com map. No final exiba o valor da lista Fahrenheit"
   ]
  },
  {
   "cell_type": "code",
   "execution_count": 116,
   "metadata": {},
   "outputs": [
    {
     "name": "stdout",
     "output_type": "stream",
     "text": [
      "[33.8, 35.6, 37.4, 39.2, 41.0]\n",
      "[33.8, 35.6, 37.4, 39.2, 41.0]\n"
     ]
    }
   ],
   "source": [
    "Celsius = [1, 2, 3, 4, 5]\n",
    "\n",
    "Fahrenheit = list(map(lambda i: (i * 9 / 5) + 32, Celsius))\n",
    "\n",
    "print(Fahrenheit)\n",
    "\n",
    "Fahrenheit = []\n",
    "\n",
    "for i in Celsius:\n",
    "    Fahrenheit.append((i * 9 / 5) + 32)\n",
    "\n",
    "print(Fahrenheit)"
   ]
  }
 ],
 "metadata": {
  "kernelspec": {
   "display_name": "Python 3",
   "language": "python",
   "name": "python3"
  },
  "language_info": {
   "codemirror_mode": {
    "name": "ipython",
    "version": 3
   },
   "file_extension": ".py",
   "mimetype": "text/x-python",
   "name": "python",
   "nbconvert_exporter": "python",
   "pygments_lexer": "ipython3",
   "version": "3.12.2"
  }
 },
 "nbformat": 4,
 "nbformat_minor": 2
}
