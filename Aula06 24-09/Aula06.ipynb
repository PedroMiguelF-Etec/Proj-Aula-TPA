{
 "cells": [
  {
   "cell_type": "markdown",
   "metadata": {},
   "source": [
    "# Introdução as Tuplas e Dicionarios"
   ]
  },
  {
   "cell_type": "code",
   "execution_count": 1,
   "metadata": {},
   "outputs": [
    {
     "name": "stdout",
     "output_type": "stream",
     "text": [
      "[2, 5, 9]\n"
     ]
    }
   ],
   "source": [
    "lista = [2,5,9]\n",
    "lista[1]\n",
    "print(lista)"
   ]
  },
  {
   "cell_type": "markdown",
   "metadata": {},
   "source": [
    "## Introdução as Tuplas"
   ]
  },
  {
   "cell_type": "code",
   "execution_count": 5,
   "metadata": {},
   "outputs": [
    {
     "data": {
      "text/plain": [
       "8"
      ]
     },
     "execution_count": 5,
     "metadata": {},
     "output_type": "execute_result"
    }
   ],
   "source": [
    "tupla = (6,8,9)\n",
    "tupla[1]"
   ]
  },
  {
   "cell_type": "code",
   "execution_count": 10,
   "metadata": {},
   "outputs": [
    {
     "ename": "AttributeError",
     "evalue": "'list' object has no attribute 'add'",
     "output_type": "error",
     "traceback": [
      "\u001b[1;31m---------------------------------------------------------------------------\u001b[0m",
      "\u001b[1;31mAttributeError\u001b[0m                            Traceback (most recent call last)",
      "Cell \u001b[1;32mIn[10], line 1\u001b[0m\n\u001b[1;32m----> 1\u001b[0m \u001b[43mlista\u001b[49m\u001b[38;5;241;43m.\u001b[39;49m\u001b[43madd\u001b[49m(\u001b[38;5;241m7\u001b[39m)\n\u001b[0;32m      2\u001b[0m \u001b[38;5;28mprint\u001b[39m(lista)\n",
      "\u001b[1;31mAttributeError\u001b[0m: 'list' object has no attribute 'add'"
     ]
    }
   ],
   "source": [
    "lista.add(7)\n",
    "print(lista)\n"
   ]
  },
  {
   "cell_type": "code",
   "execution_count": 9,
   "metadata": {},
   "outputs": [
    {
     "ename": "AttributeError",
     "evalue": "'tuple' object has no attribute 'append'",
     "output_type": "error",
     "traceback": [
      "\u001b[1;31m---------------------------------------------------------------------------\u001b[0m",
      "\u001b[1;31mAttributeError\u001b[0m                            Traceback (most recent call last)",
      "Cell \u001b[1;32mIn[9], line 1\u001b[0m\n\u001b[1;32m----> 1\u001b[0m \u001b[43mtupla\u001b[49m\u001b[38;5;241;43m.\u001b[39;49m\u001b[43mappend\u001b[49m(\u001b[38;5;241m1\u001b[39m)\n\u001b[0;32m      2\u001b[0m \u001b[38;5;28mprint\u001b[39m(tupla)\n",
      "\u001b[1;31mAttributeError\u001b[0m: 'tuple' object has no attribute 'append'"
     ]
    }
   ],
   "source": [
    "tupla.append(1)\n",
    "print(tupla)"
   ]
  },
  {
   "cell_type": "code",
   "execution_count": null,
   "metadata": {},
   "outputs": [],
   "source": [
    "tupla.add(1)\n",
    "print(tupla)"
   ]
  },
  {
   "cell_type": "code",
   "execution_count": 12,
   "metadata": {},
   "outputs": [
    {
     "ename": "TypeError",
     "evalue": "can only concatenate tuple (not \"int\") to tuple",
     "output_type": "error",
     "traceback": [
      "\u001b[1;31m---------------------------------------------------------------------------\u001b[0m",
      "\u001b[1;31mTypeError\u001b[0m                                 Traceback (most recent call last)",
      "Cell \u001b[1;32mIn[12], line 2\u001b[0m\n\u001b[0;32m      1\u001b[0m tupla \u001b[38;5;241m=\u001b[39m (\u001b[38;5;241m1\u001b[39m,\u001b[38;5;241m5\u001b[39m,\u001b[38;5;241m8\u001b[39m)\n\u001b[1;32m----> 2\u001b[0m tupla \u001b[38;5;241m=\u001b[39m \u001b[43mtupla\u001b[49m\u001b[43m \u001b[49m\u001b[38;5;241;43m+\u001b[39;49m\u001b[43m \u001b[49m\u001b[38;5;241;43m1\u001b[39;49m\n\u001b[0;32m      3\u001b[0m \u001b[38;5;28mprint\u001b[39m(tupla)\n",
      "\u001b[1;31mTypeError\u001b[0m: can only concatenate tuple (not \"int\") to tuple"
     ]
    }
   ],
   "source": [
    "tupla = (1,5,8)\n",
    "tupla = tupla + 1\n",
    "print(tupla)"
   ]
  },
  {
   "cell_type": "code",
   "execution_count": 20,
   "metadata": {},
   "outputs": [
    {
     "name": "stdout",
     "output_type": "stream",
     "text": [
      "Desenvolvimento de sistemas 2024\n",
      "2024\n",
      "Gustavo, profesor brabo\n",
      "Nota: 0\n"
     ]
    }
   ],
   "source": [
    "dicionario = {'curso': \"Desenvolvimento de sistemas 2024\", 'professor': \"Gustavo, profesor brabo\", 'ano': \"2024\", 'nota': 0}\n",
    "print(dicionario['curso'])\n",
    "print(dicionario['ano'])\n",
    "print(dicionario['professor'])\n",
    "print(\"Nota:\", dicionario['nota'])"
   ]
  },
  {
   "cell_type": "code",
   "execution_count": 21,
   "metadata": {},
   "outputs": [
    {
     "name": "stdout",
     "output_type": "stream",
     "text": [
      "9.5\n"
     ]
    }
   ],
   "source": [
    "dicionario['nota'] = 9.5\n",
    "print(dicionario['nota'])"
   ]
  },
  {
   "cell_type": "code",
   "execution_count": 29,
   "metadata": {},
   "outputs": [
    {
     "name": "stdout",
     "output_type": "stream",
     "text": [
      "curso Desenvolvimento de sistemas 2024\n",
      "professor Gustavo, profesor brabo\n",
      "ano 2024\n",
      "nota 9.5\n"
     ]
    }
   ],
   "source": [
    "for x in dicionario.keys():\n",
    "    print(x, dicionario[x])"
   ]
  },
  {
   "cell_type": "markdown",
   "metadata": {},
   "source": [
    "## Exercicio 1"
   ]
  },
  {
   "cell_type": "code",
   "execution_count": 61,
   "metadata": {},
   "outputs": [
    {
     "name": "stdout",
     "output_type": "stream",
     "text": [
      "240226 DS 24/09/2024\n",
      "Pedro MiguelF Etec\n",
      "Gustavo professor de python\n",
      "({'codígo': '240226', 'data': '24/09/2024', 'curso': 'DS'}, {'registro': 'Etec', 'Nome': 'Pedro MiguelF'}, {'registro': 'professor de python', 'professor': 'Gustavo'})\n"
     ]
    }
   ],
   "source": [
    "Matricula = {\n",
    "    'codígo': '240226', \n",
    "    'data': \"24/09/2024\", \n",
    "    'curso': \"DS\"\n",
    "    }\n",
    "\n",
    "Aluno = {\n",
    "    'registro': \"Etec\", \n",
    "    'Nome': \"Pedro MiguelF\"\n",
    "    }\n",
    "\n",
    "Diciplina = {\n",
    "    'registro': \"professor de python\",\n",
    "    'professor': \"Gustavo\"\n",
    "    }\n",
    "\n",
    "Escola = (Matricula, Aluno, Diciplina)\n",
    "\n",
    "print(Matricula['codígo'], Matricula['curso'], Matricula['data'])\n",
    "print(Aluno['Nome'], Aluno['registro'])\n",
    "print(Diciplina['professor'], Diciplina['registro'])\n",
    "\n",
    "print(Escola)"
   ]
  },
  {
   "cell_type": "code",
   "execution_count": 67,
   "metadata": {},
   "outputs": [
    {
     "name": "stdout",
     "output_type": "stream",
     "text": [
      "Matricula:\n",
      "codígo: 240226\n",
      "data: 24/09/2024\n",
      "curso: DS\n",
      "\n",
      "Aluno:\n",
      "registro: Etec\n",
      "Nome: Pedro MiguelF\n",
      "\n",
      "Diciplina:\n",
      "registro: professor de python\n",
      "professor: Gustavo\n",
      "\n",
      "Escola:\n",
      "dict_values(['240226', '24/09/2024', 'DS'])\n",
      "dict_values(['Etec', 'Pedro MiguelF'])\n",
      "dict_values(['professor de python', 'Gustavo'])\n"
     ]
    }
   ],
   "source": [
    "Matricula = {\n",
    "    'codígo': '240226', \n",
    "    'data': \"24/09/2024\", \n",
    "    'curso': \"DS\"\n",
    "    }\n",
    "\n",
    "Aluno = {\n",
    "    'registro': \"Etec\", \n",
    "    'Nome': \"Pedro MiguelF\"\n",
    "    }\n",
    "\n",
    "Diciplina = {\n",
    "    'registro': \"professor de python\",\n",
    "    'professor': \"Gustavo\"\n",
    "    }\n",
    "\n",
    "Escola = (Matricula, Aluno, Diciplina)\n",
    "\n",
    "print(\"Matricula:\")\n",
    "\n",
    "for x in Matricula:\n",
    "    print(x + \":\", Matricula[x])\n",
    "\n",
    "print(\"\\nAluno:\")\n",
    "\n",
    "for x in Aluno:\n",
    "    print(x + \":\", Aluno[x])\n",
    "\n",
    "print(\"\\nDiciplina:\")\n",
    "\n",
    "for x in Diciplina:\n",
    "    print(x + \":\", Diciplina[x])\n",
    "\n",
    "print(\"\\nEscola:\")\n",
    "for x in Escola:\n",
    "    print(x.values())"
   ]
  },
  {
   "cell_type": "markdown",
   "metadata": {},
   "source": [
    "## Exercicio 2"
   ]
  },
  {
   "cell_type": "code",
   "execution_count": 70,
   "metadata": {},
   "outputs": [
    {
     "name": "stdout",
     "output_type": "stream",
     "text": [
      "({'registro': 'cidadão', 'nome': 'ronaldo', 'adimissão': '20/03'}, {'ID': '203.024.981', 'nome': 'Batata :)', 'fabricante': 'Fazendeiro'}, {'reg_vendedor': 'cidadão', 'id_produto': '203.024.981', 'Valor': 'R$2,00'})\n"
     ]
    }
   ],
   "source": [
    "Vendedor = {'registro': \"cidadão\", 'nome': \"ronaldo\", 'adimissão': \"20/03\"}\n",
    "produto = {'ID': \"203.024.981\", 'nome': \"Batata :)\", 'fabricante': \"Fazendeiro\"}\n",
    "venda = {'reg_vendedor': Vendedor['registro'], 'id_produto': produto['ID'], 'Valor': \"R$2,00\"}\n",
    "casas_baiano = (Vendedor, produto, venda)\n",
    "\n",
    "print(casas_baiano)"
   ]
  }
 ],
 "metadata": {
  "kernelspec": {
   "display_name": "Python 3",
   "language": "python",
   "name": "python3"
  },
  "language_info": {
   "codemirror_mode": {
    "name": "ipython",
    "version": 3
   },
   "file_extension": ".py",
   "mimetype": "text/x-python",
   "name": "python",
   "nbconvert_exporter": "python",
   "pygments_lexer": "ipython3",
   "version": "3.12.2"
  }
 },
 "nbformat": 4,
 "nbformat_minor": 2
}
