{
 "cells": [
  {
   "cell_type": "markdown",
   "metadata": {},
   "source": [
    "# Aula 05 - 17/09/2024"
   ]
  },
  {
   "cell_type": "markdown",
   "metadata": {},
   "source": [
    "## Exemplo 1"
   ]
  },
  {
   "cell_type": "code",
   "execution_count": 1,
   "metadata": {},
   "outputs": [
    {
     "name": "stdout",
     "output_type": "stream",
     "text": [
      "[50.0, 68.0, 75.2, 95.0, 122.0]\n"
     ]
    }
   ],
   "source": [
    "celsius = [10,20,24,35,50]\n",
    "fahrenheit = [round(x*1.8+32,2) for x in celsius]\n",
    "print(fahrenheit)"
   ]
  },
  {
   "cell_type": "markdown",
   "metadata": {},
   "source": [
    "## exemplo 2: km para mph"
   ]
  },
  {
   "cell_type": "code",
   "execution_count": 3,
   "metadata": {},
   "outputs": [
    {
     "name": "stdout",
     "output_type": "stream",
     "text": [
      "[50.2, 68.2, 75.4, 95.2, 122.2]\n"
     ]
    }
   ],
   "source": [
    "celsius = [10,20,24,35,50]\n",
    "fahrenheit = [(x*1.8+32.2) for x in celsius]\n",
    "print(fahrenheit)"
   ]
  },
  {
   "cell_type": "code",
   "execution_count": 7,
   "metadata": {},
   "outputs": [
    {
     "name": "stdout",
     "output_type": "stream",
     "text": [
      "kmh   mph   \n",
      "2     10    \n"
     ]
    }
   ],
   "source": [
    "print(\"{:<6}{:<6}\".format(\"kmh\",\"mph\"))\n",
    "print(\"{:<6}{:<6}\".format(\"2\", \"10\"))"
   ]
  },
  {
   "cell_type": "code",
   "execution_count": 4,
   "metadata": {},
   "outputs": [
    {
     "name": "stdout",
     "output_type": "stream",
     "text": [
      "celsius fahrenheit\n",
      "==============\n",
      "10      50.2    \n",
      "20      68.2    \n",
      "24      75.4    \n",
      "35      95.2    \n",
      "50      122.2   \n"
     ]
    }
   ],
   "source": [
    "celsius = [10,20,24,35,50]\n",
    "fahrenheit = [(x*1.8+32.2) for x in celsius]\n",
    "\n",
    "print(\"{:<8}{:<8}\".format(\"celsius\",\"fahrenheit\"))\n",
    "print(\"==============\")\n",
    "x = 0\n",
    "while(x<len(celsius)):\n",
    "    print(\"{:<8}{:<8}\".format(celsius[x], fahrenheit[x]))\n",
    "    x +=1\n"
   ]
  },
  {
   "cell_type": "markdown",
   "metadata": {},
   "source": [
    "## Exercicio 1"
   ]
  },
  {
   "cell_type": "code",
   "execution_count": 18,
   "metadata": {},
   "outputs": [
    {
     "name": "stdout",
     "output_type": "stream",
     "text": [
      "       metros    polegadas pés       jardas    milhas    \n",
      "0    10        394       33        11        0.005399568034557235\n",
      "1    20        787       66        22        0.01079913606911447\n",
      "2    30        1181      98        33        0.016198704103671708\n",
      "3    40        1575      131       44        0.02159827213822894\n",
      "4    50        1968      164       55        0.026997840172786176\n",
      "5    60        2362      197       66        0.032397408207343416\n",
      "6    70        2756      230       77        0.03779697624190065\n",
      "7    80        3150      262       88        0.04319654427645788\n",
      "8    90        3543      295       98        0.04859611231101512\n",
      "9    100       3937      328       109       0.05399568034557235\n"
     ]
    }
   ],
   "source": [
    "metros = [10, 20, 30, 40, 50, 60, 70, 80, 90, 100]\n",
    "polegadas = [round(m * 39.37) for m in metros]\n",
    "pés = [round(m * 3.281) for m in metros]\n",
    "jardas = [round(m * 1.094) for m in metros]\n",
    "milhas = [(m / 1852) for m in metros]\n",
    "\n",
    "print(\"{:<5}{:<10}{:<10}{:<10}{:<10}{:<10}\".format(\"       \",\"metros\",\"polegadas\",\"pés\",\"jardas\",\"milhas\"))\n",
    "valor = 0\n",
    "while(valor<len(metros)):\n",
    "    print(\"{:<5}{:<10}{:<10}{:<10}{:<10}{:<10}\".format(valor,metros[valor], polegadas[valor], pés[valor], jardas[valor],milhas[valor]))\n",
    "    valor += 1\n"
   ]
  },
  {
   "cell_type": "markdown",
   "metadata": {},
   "source": [
    "## Exercicio 2"
   ]
  },
  {
   "cell_type": "code",
   "execution_count": 44,
   "metadata": {},
   "outputs": [
    {
     "name": "stdout",
     "output_type": "stream",
     "text": [
      "     celsius        fahrenheit     kelvin         \n",
      "0    -263           -442           10             \n",
      "1    -253           -424           20             \n",
      "2    -243           -406           30             \n",
      "3    -233           -388           40             \n",
      "4    -223           -370           50             \n",
      "5    -213           -352           60             \n",
      "6    -203           -334           70             \n",
      "7    -193           -316           80             \n",
      "8    -183           -298           90             \n",
      "9    -173           -280           100            \n"
     ]
    }
   ],
   "source": [
    "kelvin = [10,20,30,40,50,60,70,80,90,100]\n",
    "celsius = [round(k + -273.15) for k in kelvin]\n",
    "fahrenheit = [round((k - 273.15) * 9/5 + 32) for k in kelvin]\n",
    "\n",
    "print(\"{:<5}{:<15}{:<15}{:<15}\".format(\"   \",\"celsius\",\"fahrenheit\",\"kelvin\"))\n",
    "\n",
    "vezes = 0\n",
    "\n",
    "while(vezes<len(kelvin)):\n",
    "    print(\"{:<5}{:<15}{:<15}{:<15}\".format(vezes,celsius[vezes],fahrenheit[vezes],kelvin[vezes]))\n",
    "    vezes += 1"
   ]
  },
  {
   "cell_type": "markdown",
   "metadata": {},
   "source": [
    "## Exercicio 3"
   ]
  },
  {
   "cell_type": "code",
   "execution_count": 75,
   "metadata": {},
   "outputs": [
    {
     "name": "stdout",
     "output_type": "stream",
     "text": [
      "           Kilos     Terra      Lua    Jupiter   Saturno   Mercurio  \n",
      "   0        10        90        10       240       100        30\n",
      "   1        20       180        20       480       200        60\n",
      "   2        30       270        30       720       300        90\n",
      "   3        40       360        40       960       400       120\n",
      "   4        50       450        50      1200       500       150\n",
      "   5        60       540        60      1440       600       180\n",
      "   6        70       630        70      1680       700       210\n",
      "   7        80       720        80      1920       800       240\n",
      "   8        90       810        90      2160       900       270\n",
      "   9       100       900       100      2400      1000       300\n"
     ]
    }
   ],
   "source": [
    "kilos = [10, 20, 30, 40, 50, 60, 70, 80, 90, 100]\n",
    "PTerra = [round(kg * 9,8) for kg in kilos]\n",
    "PLua = [round(kg * 1,62) for kg in kilos]\n",
    "PJupiter = [round(kg * 24,79) for kg in kilos]\n",
    "PSaturno = [round(kg * 10,44) for kg in kilos]\n",
    "PMercurio = [round(kg * 3,7) for kg in kilos]\n",
    "vezes = 0\n",
    "\n",
    "print(\"{:11}{:10}{:11}{:7}{:10}{:10}{:10}\".format(\"\", \"Kilos\", \"Terra\", \"Lua\", \"Jupiter\", \"Saturno\", \"Mercurio\"))\n",
    "\n",
    "while (vezes<len(kilos)):\n",
    "    print(\"{:4}{:10}{:10}{:10}{:10}{:10}{:10}\".format(vezes, kilos[vezes], PTerra[vezes], PLua[vezes], PJupiter[vezes], PSaturno[vezes], PMercurio[vezes]))\n",
    "    vezes += 1\n"
   ]
  }
 ],
 "metadata": {
  "kernelspec": {
   "display_name": "Python 3",
   "language": "python",
   "name": "python3"
  },
  "language_info": {
   "codemirror_mode": {
    "name": "ipython",
    "version": 3
   },
   "file_extension": ".py",
   "mimetype": "text/x-python",
   "name": "python",
   "nbconvert_exporter": "python",
   "pygments_lexer": "ipython3",
   "version": "3.11.9"
  }
 },
 "nbformat": 4,
 "nbformat_minor": 2
}
