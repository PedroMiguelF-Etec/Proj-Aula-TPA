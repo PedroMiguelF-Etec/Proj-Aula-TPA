{
 "cells": [
  {
   "cell_type": "markdown",
   "metadata": {},
   "source": [
    "> 1ºDS Pedro Miguel Fernandes"
   ]
  },
  {
   "cell_type": "markdown",
   "metadata": {},
   "source": [
    "## Exercicio 1"
   ]
  },
  {
   "cell_type": "code",
   "execution_count": 2,
   "metadata": {},
   "outputs": [
    {
     "name": "stdout",
     "output_type": "stream",
     "text": [
      "delta: 88\n",
      "baskhara\n",
      "X2 = 39.30958424017657\n"
     ]
    }
   ],
   "source": [
    "import math\n",
    "x4 = 0\n",
    "x1 = 0\n",
    "x2 = 0\n",
    "x3 = 0\n",
    "\n",
    "def delta (): \n",
    "    global x4\n",
    "    global x1\n",
    "    global x2\n",
    "    global x3\n",
    "\n",
    "    \n",
    "    print(\"delta:\", (x1 * x1) - 4 * x2 * x3)\n",
    "\n",
    "x1 = 10\n",
    "x2 = 1\n",
    "x3 = 3\n",
    "x4 = ((x1 * x1) - 4 * x2 * x3)\n",
    "\n",
    "delta()\n",
    "\n",
    "def baskhara():\n",
    "    global x4\n",
    "    global x3\n",
    "    global x2\n",
    "\n",
    "    RaizQuadrada = math.sqrt(x4)\n",
    "    resposta = input(\"digite qual X você gostaria de ver: (1|2)\\n\")\n",
    "    print(\"baskhara\")\n",
    "    if resposta == \"1\":\n",
    "        print(\"X1 =\", (x4 + RaizQuadrada) / (2 * x2))\n",
    "    elif resposta == \"2\":\n",
    "        print(\"X2 =\", (x4 - RaizQuadrada) / (2 * x2))\n",
    "    else:\n",
    "        print(\"opção invalida\")\n",
    "\n",
    "baskhara()"
   ]
  },
  {
   "cell_type": "markdown",
   "metadata": {},
   "source": [
    "## Exercicio 2"
   ]
  },
  {
   "cell_type": "code",
   "execution_count": 3,
   "metadata": {},
   "outputs": [
    {
     "name": "stdout",
     "output_type": "stream",
     "text": [
      "[33.8, 35.6, 37.4, 39.2, 41.0]\n"
     ]
    }
   ],
   "source": [
    "Celsius = [1, 2, 3, 4, 5]\n",
    "\n",
    "Fahrenheit = []\n",
    "\n",
    "for i in Celsius:\n",
    "    Fahrenheit.append((i * 9 / 5) + 32)\n",
    "\n",
    "print(Fahrenheit)"
   ]
  }
 ],
 "metadata": {
  "kernelspec": {
   "display_name": "Python 3",
   "language": "python",
   "name": "python3"
  },
  "language_info": {
   "codemirror_mode": {
    "name": "ipython",
    "version": 3
   },
   "file_extension": ".py",
   "mimetype": "text/x-python",
   "name": "python",
   "nbconvert_exporter": "python",
   "pygments_lexer": "ipython3",
   "version": "3.11.9"
  }
 },
 "nbformat": 4,
 "nbformat_minor": 2
}
